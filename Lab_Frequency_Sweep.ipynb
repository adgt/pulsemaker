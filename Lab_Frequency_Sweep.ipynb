{
 "cells": [
  {
   "cell_type": "markdown",
   "id": "60aecee7-f116-4680-b959-8f850279be75",
   "metadata": {},
   "source": [
    "# Lab: Frequency Sweep\n",
    "\n",
    "This lab is inspired by [Calibrating Qubits using Qiskit Pulse](https://learn.qiskit.org/course/quantum-hardware-pulses/calibrating-qubits-using-qiskit-pulse#frequencysweep) from the [Qiskit Textbook](https://qiskit.org/textbook/). It's a short lab, but allows more interactivity for the frequency sweep portion of that chapter and helps showcase some of the features of Pulsemaker. Consider this lab a \"toy\" example that could work well in a high school setting. In practice, you wouldn't actually perform a frequency sweep this way as it would be inefficient.\n",
    "\n",
    "_NOTE_: If you are new to Pulsemaker, then you might want to run through the [PulseDesigner tutorial](Tutorial_PulseDesigner.ipynb) and the [ScheduleDesigner tutorial](Tutorial_ScheduleDesigner.ipynb) to be more comfortable with this lab.\n",
    "\n",
    "## Qubit in a Box\n",
    "\n",
    "Okay, so you saved up enough money to finally buy yourself a single-qubit device for use at home: the _Qutron 1000_ (aka Armonk among those in the know). Your Amazon box arrived this morning on your doorstep, but upon opening the box you were disappointed to read this included note:\n",
    "\n",
    "> We apologize for the inconvenience, but we've had so much demand that we opted to send out devices without calibration so that we could fulfill orders in as timely a way as possible. You will need to perform a frequency sweep on your device to determine your qubit's actual frequency. Based on our manufacturing process we know that this will be in the range of **4.965** to **4.983 GHz**. Happy hunting!\n",
    "\n",
    "Good thing you're a tinkerer at heart. Time to dust off some of your old diagnostic tools!\n",
    "\n",
    "_Instructional note: run each of the code cells below as you continue through this lab._"
   ]
  },
  {
   "cell_type": "code",
   "execution_count": null,
   "id": "6a058989-ab89-46ca-a6c4-41c0ae6cb6da",
   "metadata": {},
   "outputs": [],
   "source": [
    "%load_ext autoreload\n",
    "%autoreload 2\n",
    "%config InlineBackend.figure_format = 'svg'\n",
    "from pulsemaker import PulseDesigner, ScheduleDesigner\n",
    "from qiskit.pulse import SetFrequency\n",
    "import matplotlib.pyplot as plt\n",
    "import ipywidgets as widgets\n",
    "import numpy as np\n",
    "from time import sleep"
   ]
  },
  {
   "cell_type": "markdown",
   "id": "e17342a8-ba80-4b1b-b3b9-bb86ee39cc6e",
   "metadata": {},
   "source": [
    "### Waveform generator\n",
    "You head to your garage to look for that waveform generator you know you have...somwhere. Ahh, there it is behind those stacks of old Popular Science magazine that you just can't bring yourself to get rid of. There she is in all her beauty: _PulseDesigner_. But how are we supposed to drive this qubit? Ahh, there's a second note in the shipping box:\n",
    "\n",
    "> Please have your waveform match the following and drive with an amplitude of **0.05**.  \n",
    "![waveform](images/labFrequencySweep_01.png)\n",
    "\n",
    "You recall that you only need to adjust the in-phase portion of the waveform (i.e. no need to modify Quadrature). So, you first set the amplitude and then continue on to adjust the sample count, so you have a reasonable amount of samples and finally adjust sigma."
   ]
  },
  {
   "cell_type": "code",
   "execution_count": null,
   "id": "a017722f-d412-4319-9f0c-ba06555c7ed6",
   "metadata": {},
   "outputs": [],
   "source": [
    "pulse_d = PulseDesigner()\n",
    "pulse_d"
   ]
  },
  {
   "cell_type": "markdown",
   "id": "67336a4f-f8f5-4a65-bdf0-9390a3fba898",
   "metadata": {},
   "source": [
    "### License to drive\n",
    "\n",
    "Now that we've got the right waveform we can start driving the qubit and see what response we get. You fire up the included _ScheduleDesigner_ application that came with your Qutron, so that you can create a pulse schedule to send to the device. "
   ]
  },
  {
   "cell_type": "code",
   "execution_count": null,
   "id": "97615f44-9204-43af-a5cc-7e0d5055b302",
   "metadata": {},
   "outputs": [],
   "source": [
    "schedule_d = ScheduleDesigner()\n",
    "pulse_d.observe(schedule_d.update_custom_pulse, names='pulse')\n",
    "schedule_d.update_custom_pulse({'new': pulse_d.pulse})\n",
    "\n",
    "def load():\n",
    "    out = widgets.Output()\n",
    "    display(out)\n",
    "    out.append_stdout('Loading ScheduleDesigner');\n",
    "    for i in range(3):\n",
    "        out.append_stdout(f'{\".\" * i}')\n",
    "        sleep(1)\n",
    "    out.append_stdout(\"Loaded ✅\")\n",
    "\n",
    "GHz = 1.0e9 # Gigahertz    \n",
    "\n",
    "sweep_values = []\n",
    "frequencies = []\n",
    "def plot():\n",
    "    fig = plt.figure(figsize=(3, 3))\n",
    "    if len(sweep_values) > 0:\n",
    "        plt.scatter(frequencies[:-1], np.real(sweep_values[:-1]), color='black') # plot real part of sweep values\n",
    "        plt.scatter(frequencies[-1], np.real(sweep_values[-1]), color='red') # plot real part of sweep values        \n",
    "    if len(frequencies) > 1 and min(frequencies) != max(frequencies):\n",
    "        plt.xlim([min(frequencies), max(frequencies)])\n",
    "    plt.xlabel(\"Frequency [GHz]\")\n",
    "    plt.ylabel(\"Measured signal [a.u.]\")\n",
    "result_plot = widgets.interactive(plot)\n",
    "\n",
    "def update_results(change):\n",
    "    result = change['new']\n",
    "    if result.results is None:\n",
    "        return\n",
    "    \n",
    "    schedule = change.owner.schedule\n",
    "    for start_time, instruction in schedule.instructions:\n",
    "        if isinstance(instruction, SetFrequency):\n",
    "            frequencies.append(instruction.frequency / GHz)\n",
    "            break\n",
    "            \n",
    "    # This scale factor was experimentally determined to give similar results to the \"Calibrating Qubits using Qiskit Pulse\" chapter, but by only using the simulator\n",
    "    scale_factor = 36\n",
    "    for i in range(len(result.results)):\n",
    "        # Get the results from the ith experiment\n",
    "        res = 6 - result.get_memory(i) * scale_factor\n",
    "        # Get the results for `qubit` from this experiment\n",
    "        sweep_values.append(res[0])\n",
    "\n",
    "    result_plot.update()\n",
    "schedule_d.observe(update_results, names='result')\n",
    "\n",
    "load()"
   ]
  },
  {
   "cell_type": "markdown",
   "id": "d9b98c25-4e97-448d-903d-667ee937d30f",
   "metadata": {},
   "source": [
    "### What's the magic number?\n",
    "\n",
    "Loaded and ready to go. In order to scan frequencies you know that you need to have a schedule that:\n",
    "1. Sets a frequency\n",
    "2. Sends the waveform as a set of pulses\n",
    "\n",
    "Looking at the instruction manual for _ScheduleDesigner_ you can see that it is possible to do this using the \"Freq [GHz]\" and \"From Pulse\" buttons. You hook up your PulseDesigner to your computer, so that you can import the waveform from it. The manual says to turn on **Auto-run**, so that you can see immediate output in the graph on the right. The red dot (🔴) is the last schedule that was run and all black dots (⚫) are previously run schedules. You can modify the frequency by selecting that item in the schedule and clicking 📝 (edit). The manual says that with auto-run you can just enter new values or use the spinner (up/down) buttons and the output should immediately update. It would be good to start with the bounds and then perhaps binary search or you could just go in increments of 0.001 GHz.\n",
    "\n",
    "What was that range again? Oh yeah, **4.965** to **4.983 GHz**.\n",
    "\n",
    "Let's search for that signal spike! "
   ]
  },
  {
   "cell_type": "code",
   "execution_count": null,
   "id": "8fca30d7-e9d8-443e-8ee7-cff3cbd8483e",
   "metadata": {},
   "outputs": [],
   "source": [
    "display(widgets.HBox([schedule_d, result_plot]))"
   ]
  },
  {
   "cell_type": "markdown",
   "id": "141796ab-8bbb-4779-af13-c130fe257e97",
   "metadata": {},
   "source": [
    "### Let's dial it in\n",
    "\n",
    "You found that magic number, but it'd be good to be a little more rigorous and fit all of the values you recorded to a curve. You did sweep the full range, right? Right? If your curve does not look like it is fitting well, then go back one step and make sure you have collected enough points."
   ]
  },
  {
   "cell_type": "code",
   "execution_count": null,
   "id": "792ba449-2b83-4222-91a5-cad80f653629",
   "metadata": {},
   "outputs": [],
   "source": [
    "from scipy.optimize import curve_fit\n",
    "from scipy.stats import norm\n",
    "\n",
    "def fit_function(x_values, y_values, function, init_params):\n",
    "    fitparams, conv = curve_fit(function, x_values, y_values, init_params)\n",
    "    y_fit = function(x_values, *fitparams)\n",
    "    \n",
    "    return fitparams, y_fit\n",
    "\n",
    "max_sweep = max(sweep_values)\n",
    "sweep_fit = sweep_values.copy()\n",
    "sorted_indices = np.argsort(frequencies)\n",
    "freqs_fit = np.take(frequencies, sorted_indices)\n",
    "sweep_fit = np.take(sweep_fit, sorted_indices)\n",
    "\n",
    "fit_params, y_fit = fit_function(freqs_fit,\n",
    "                                 np.real(sweep_fit), \n",
    "                                 lambda x, A, q_freq, B, C: (A / np.pi) * (B / ((x - q_freq)**2 + B**2)) + C,\n",
    "                                 [-5, 4.97, 1, 5] # initial parameters for curve_fit\n",
    "                                )\n",
    "\n",
    "plt.scatter(freqs_fit, np.real(sweep_fit), color='black')\n",
    "plt.plot(freqs_fit, y_fit, color='red')\n",
    "plt.xlim([min(freqs_fit), max(freqs_fit)])\n",
    "\n",
    "plt.xlabel(\"Frequency [GHz]\")\n",
    "plt.ylabel(\"Measured Signal [a.u.]\")\n",
    "plt.show()"
   ]
  },
  {
   "cell_type": "code",
   "execution_count": null,
   "id": "2198a8f3-d340-41eb-a28d-7b68488ceede",
   "metadata": {},
   "outputs": [],
   "source": [
    "A, rough_qubit_frequency, B, C = fit_params\n",
    "rough_qubit_frequency = rough_qubit_frequency*GHz # make sure qubit freq is in Hz\n",
    "print(f\"After curve-fitting the qubit frequency is estimated to be at {round(rough_qubit_frequency/GHz, 5)} GHz.\")"
   ]
  },
  {
   "cell_type": "markdown",
   "id": "903ecfcc-2d81-4cd2-9cdc-96583e25ec1b",
   "metadata": {},
   "source": [
    "### Verify your results\n",
    "\n",
    "Now that you've zeroed in on a precise qubit frequency, let's see how you did. Execute the next cell to find out if you figured it out!"
   ]
  },
  {
   "cell_type": "code",
   "execution_count": null,
   "id": "599a079c-2551-4e36-ab4d-3a339039b3ea",
   "metadata": {},
   "outputs": [],
   "source": [
    "from pulsemaker import get_qiskit_backend\n",
    "backend = get_qiskit_backend(schedule_d._current_backend)\n",
    "if np.isclose(backend.defaults().qubit_freq_est[0], rough_qubit_frequency, atol=1e6):\n",
    "    print(\"🎉🎉🎉 You have successfully calibrated your Qutron 1000\")\n",
    "else:\n",
    "    print(\"🔎 Hmmm... Something is off, so try retracing your steps\")"
   ]
  },
  {
   "cell_type": "code",
   "execution_count": null,
   "id": "1e14c6e0-8fdf-4ffc-8d2e-de5154db2398",
   "metadata": {},
   "outputs": [],
   "source": []
  }
 ],
 "metadata": {
  "kernelspec": {
   "display_name": "Python 3",
   "language": "python",
   "name": "python3"
  },
  "language_info": {
   "codemirror_mode": {
    "name": "ipython",
    "version": 3
   },
   "file_extension": ".py",
   "mimetype": "text/x-python",
   "name": "python",
   "nbconvert_exporter": "python",
   "pygments_lexer": "ipython3",
   "version": "3.9.2"
  }
 },
 "nbformat": 4,
 "nbformat_minor": 5
}
